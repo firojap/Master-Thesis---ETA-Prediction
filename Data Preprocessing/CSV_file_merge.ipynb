{
 "cells": [
  {
   "cell_type": "code",
   "execution_count": 1,
   "metadata": {
    "executionInfo": {
     "elapsed": 666,
     "status": "ok",
     "timestamp": 1699816223806,
     "user": {
      "displayName": "Firoj Ahmmed Patwary",
      "userId": "10480761308487346622"
     },
     "user_tz": -60
    },
    "id": "SIkRUtO_NpT0"
   },
   "outputs": [],
   "source": [
    "import os\n",
    "import pandas as pd\n",
    "from glob import glob"
   ]
  },
  {
   "cell_type": "code",
   "execution_count": 2,
   "metadata": {
    "executionInfo": {
     "elapsed": 4,
     "status": "ok",
     "timestamp": 1699816223806,
     "user": {
      "displayName": "Firoj Ahmmed Patwary",
      "userId": "10480761308487346622"
     },
     "user_tz": -60
    },
    "id": "XPmvWzWNN310"
   },
   "outputs": [],
   "source": [
    "# Path to the directory\n",
    "folder_path = r\"C:\\Users\\firoj\\OneDrive\\Desktop\\thesis_test\\Thesis_test_01\\Trips\"\n",
    "save_path   = r\"C:\\Users\\firoj\\OneDrive\\Desktop\\thesis_test\\Thesis_test_01\\Seg_Seg\"\n",
    "#os.chdir(path)"
   ]
  },
  {
   "cell_type": "code",
   "execution_count": 3,
   "metadata": {
    "executionInfo": {
     "elapsed": 3,
     "status": "ok",
     "timestamp": 1699816223806,
     "user": {
      "displayName": "Firoj Ahmmed Patwary",
      "userId": "10480761308487346622"
     },
     "user_tz": -60
    },
    "id": "aasYSa5CN6Hu"
   },
   "outputs": [],
   "source": [
    "# Define patterns for filenames to merge based on the given criteria\n",
    "patterns_to_merge = {\n",
    "    '117-102' : ['117-102_*.csv', '102-117_*.csv'],\n",
    "    '102-99'  : ['102-99_*.csv', '99-102_*.csv'],\n",
    "    '99-119'  : ['99-119_*.csv', '119-99_*.csv'],\n",
    "    '119-81'  : ['119-81_*.csv', '81-119_*.csv'],\n",
    "    '81-74'   : ['81-74_*.csv', '74-81_*.csv'],\n",
    "    '74-71'   : ['74-71_*.csv', '71-74_*.csv'],\n",
    "    '71-62'   : ['71-62_*.csv', '62-71_*.csv'],\n",
    "    '62-51'   : ['62-51_*.csv', '51-62_*.csv'],\n",
    "    '51-44'   : ['51-44_*.csv', '44-51_*.csv'],\n",
    "    '44-43'   : ['44-43_*.csv', '43-44_*.csv'],\n",
    "    '43-128'  : ['43-128_*.csv', '128-43_*.csv']\n",
    "}"
   ]
  },
  {
   "cell_type": "code",
   "execution_count": 4,
   "metadata": {
    "executionInfo": {
     "elapsed": 3,
     "status": "ok",
     "timestamp": 1699816223806,
     "user": {
      "displayName": "Firoj Ahmmed Patwary",
      "userId": "10480761308487346622"
     },
     "user_tz": -60
    },
    "id": "NEvBcFzyOOhP"
   },
   "outputs": [],
   "source": [
    "# Placeholder to hold the dataframes to be merged\n",
    "merged_data = {}"
   ]
  },
  {
   "cell_type": "code",
   "execution_count": 5,
   "metadata": {
    "executionInfo": {
     "elapsed": 3,
     "status": "ok",
     "timestamp": 1699816223806,
     "user": {
      "displayName": "Firoj Ahmmed Patwary",
      "userId": "10480761308487346622"
     },
     "user_tz": -60
    },
    "id": "xeTq9DIbORJ7"
   },
   "outputs": [],
   "source": [
    "# Function to check if the file should be ignored\n",
    "def should_ignore(file_path):\n",
    "    df = pd.read_csv(file_path)\n",
    "    # If there's only one row and the 'ais_timestamp' is the same for all, ignore this file\n",
    "    return len(df) == 1 and df['ais_timestamp'].nunique() == 1"
   ]
  },
  {
   "cell_type": "code",
   "execution_count": 6,
   "metadata": {
    "executionInfo": {
     "elapsed": 3359,
     "status": "ok",
     "timestamp": 1699816227163,
     "user": {
      "displayName": "Firoj Ahmmed Patwary",
      "userId": "10480761308487346622"
     },
     "user_tz": -60
    },
    "id": "V9712EswOT_s"
   },
   "outputs": [],
   "source": [
    "# Iterate over the patterns and merge the files accordingly\n",
    "for key, patterns in patterns_to_merge.items():\n",
    "    # Collect all files matching the patterns\n",
    "    files_to_merge = []\n",
    "    for pattern in patterns:\n",
    "        files_to_merge.extend(glob(os.path.join(folder_path, pattern)))\n",
    "\n",
    "    # Filter out files that should be ignored\n",
    "    files_to_merge = [file for file in files_to_merge if not should_ignore(file)]\n",
    "\n",
    "    # Read and concatenate the dataframes\n",
    "    if files_to_merge:\n",
    "        df_list = [pd.read_csv(file) for file in files_to_merge]\n",
    "        merged_df = pd.concat(df_list, ignore_index=True)\n",
    "\n",
    "        # Store the merged dataframe with the corresponding new filename\n",
    "        new_filename = f\"{key}.csv\"\n",
    "        merged_data[new_filename] = merged_df"
   ]
  },
  {
   "cell_type": "code",
   "execution_count": 7,
   "metadata": {
    "executionInfo": {
     "elapsed": 1449,
     "status": "ok",
     "timestamp": 1699816228609,
     "user": {
      "displayName": "Firoj Ahmmed Patwary",
      "userId": "10480761308487346622"
     },
     "user_tz": -60
    },
    "id": "ST_qakw4OXXN"
   },
   "outputs": [],
   "source": [
    "# Save the merged dataframes to new csv files\n",
    "for filename, dataframe in merged_data.items():\n",
    "    dataframe.to_csv(os.path.join(save_path, filename), index=False)"
   ]
  },
  {
   "cell_type": "code",
   "execution_count": null,
   "metadata": {
    "executionInfo": {
     "elapsed": 2,
     "status": "ok",
     "timestamp": 1699816228609,
     "user": {
      "displayName": "Firoj Ahmmed Patwary",
      "userId": "10480761308487346622"
     },
     "user_tz": -60
    },
    "id": "7lIQdFyQOaq_"
   },
   "outputs": [],
   "source": []
  }
 ],
 "metadata": {
  "colab": {
   "authorship_tag": "ABX9TyP4QCrEJ4ViXlVV8rHqE8XA",
   "mount_file_id": "1gfBozgCVUOlfbbe1qM0yYRtOcp5qWF8F",
   "provenance": []
  },
  "kernelspec": {
   "display_name": "Python 3 (ipykernel)",
   "language": "python",
   "name": "python3"
  },
  "language_info": {
   "codemirror_mode": {
    "name": "ipython",
    "version": 3
   },
   "file_extension": ".py",
   "mimetype": "text/x-python",
   "name": "python",
   "nbconvert_exporter": "python",
   "pygments_lexer": "ipython3",
   "version": "3.11.5"
  }
 },
 "nbformat": 4,
 "nbformat_minor": 1
}
